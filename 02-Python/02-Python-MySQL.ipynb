{
  "cells": [
    {
      "cell_type": "markdown",
      "id": "5738ea3e",
      "metadata": {
        "id": "5738ea3e"
      },
      "source": [
        "## Using Python to Query MySQL\n",
        "This notebook demonstrates using a couple of different database connectivity libraries to connect to and query a MySQL database.\n",
        "- **PyMySQL** library\n",
        "- MySQL's Native **mysql.connector** library\n",
        "- **SqlAlchemy** library\n",
        "\n",
        "### 1.0. Prerequisites\n",
        "\n",
        "#### 1.1. First, you must **install** the libaries into your *python* environment by executing the following commands in a *Terminal window*\n",
        "- python -m pip install PyMySQL\n",
        "- python -m pip install mysql.connector-python\n",
        "- python -m pip install sqlalchemy\n",
        "\n",
        "#### 1.2. Next, as with all Jupyter Notebooks, you need to **Import** the libaries that you'll be working with in the notebook,"
      ]
    },
    {
      "cell_type": "code",
      "execution_count": 5,
      "id": "c1c46e6b",
      "metadata": {
        "id": "c1c46e6b",
        "outputId": "78fc9995-ff80-4f2c-8595-83d2631eded8",
        "colab": {
          "base_uri": "https://localhost:8080/"
        }
      },
      "outputs": [
        {
          "output_type": "stream",
          "name": "stdout",
          "text": [
            "Requirement already satisfied: pymysql in /usr/local/lib/python3.10/dist-packages (1.1.1)\n",
            "Collecting mysql.connector\n",
            "  Downloading mysql-connector-2.2.9.tar.gz (11.9 MB)\n",
            "\u001b[2K     \u001b[90m━━━━━━━━━━━━━━━━━━━━━━━━━━━━━━━━━━━━━━━━\u001b[0m \u001b[32m11.9/11.9 MB\u001b[0m \u001b[31m83.2 MB/s\u001b[0m eta \u001b[36m0:00:00\u001b[0m\n",
            "\u001b[?25h  Preparing metadata (setup.py) ... \u001b[?25l\u001b[?25hdone\n",
            "Building wheels for collected packages: mysql.connector\n",
            "  Building wheel for mysql.connector (setup.py) ... \u001b[?25l\u001b[?25hdone\n",
            "  Created wheel for mysql.connector: filename=mysql_connector-2.2.9-cp310-cp310-linux_x86_64.whl size=247948 sha256=e3f1b4763a79cd9cc12e6339220e58b78250fcd4362f5f65fa67ea602e46b2d3\n",
            "  Stored in directory: /root/.cache/pip/wheels/76/48/9b/da67ff1a18fe8e9d428f9b1a177716d4a7d363d2bbe83bf6cf\n",
            "Successfully built mysql.connector\n",
            "Installing collected packages: mysql.connector\n",
            "Successfully installed mysql.connector-2.2.9\n"
          ]
        }
      ],
      "source": [
        "import os\n",
        "!pip install pymysql\n",
        "import pymysql\n",
        "!pip install mysql.connector\n",
        "import mysql.connector\n",
        "from sqlalchemy import create_engine\n",
        "\n",
        "import pandas as pd\n",
        "import matplotlib.pyplot as plt"
      ]
    },
    {
      "cell_type": "markdown",
      "id": "4128c8b5",
      "metadata": {
        "id": "4128c8b5"
      },
      "source": [
        "#### 1.3. And then, Assign Connection Variables for the MySQL Server & Database with which You'll be Working"
      ]
    },
    {
      "cell_type": "code",
      "execution_count": 6,
      "id": "e45f728e",
      "metadata": {
        "id": "e45f728e"
      },
      "outputs": [],
      "source": [
        "host_name = \"localhost\" #\"compid-mysql.mysql.database.azure.com\"\n",
        "host_ip = \"127.0.0.1\"\n",
        "port = \"3306\"\n",
        "\n",
        "user_id = \"root\"\n",
        "pwd = \"Passw0rd123\"\n",
        "db_name = \"northwind\""
      ]
    },
    {
      "cell_type": "markdown",
      "id": "972fedd1",
      "metadata": {
        "id": "972fedd1"
      },
      "source": [
        "### 2.0. Using the PyMySQL Library\n",
        "#### 2.1. Using a Cursor to Iterate the Rows Returned"
      ]
    },
    {
      "cell_type": "code",
      "execution_count": 7,
      "id": "8c8afe4f",
      "metadata": {
        "id": "8c8afe4f",
        "outputId": "c5eb4e84-0d3e-4a2c-9c15-0f0994a0b7da",
        "colab": {
          "base_uri": "https://localhost:8080/",
          "height": 408
        }
      },
      "outputs": [
        {
          "output_type": "error",
          "ename": "OperationalError",
          "evalue": "(2003, \"Can't connect to MySQL server on 'localhost' ([Errno 99] Cannot assign requested address)\")",
          "traceback": [
            "\u001b[0;31m---------------------------------------------------------------------------\u001b[0m",
            "\u001b[0;31mOSError\u001b[0m                                   Traceback (most recent call last)",
            "\u001b[0;32m/usr/local/lib/python3.10/dist-packages/pymysql/connections.py\u001b[0m in \u001b[0;36mconnect\u001b[0;34m(self, sock)\u001b[0m\n\u001b[1;32m    648\u001b[0m                         \u001b[0;32mtry\u001b[0m\u001b[0;34m:\u001b[0m\u001b[0;34m\u001b[0m\u001b[0;34m\u001b[0m\u001b[0m\n\u001b[0;32m--> 649\u001b[0;31m                             sock = socket.create_connection(\n\u001b[0m\u001b[1;32m    650\u001b[0m                                 \u001b[0;34m(\u001b[0m\u001b[0mself\u001b[0m\u001b[0;34m.\u001b[0m\u001b[0mhost\u001b[0m\u001b[0;34m,\u001b[0m \u001b[0mself\u001b[0m\u001b[0;34m.\u001b[0m\u001b[0mport\u001b[0m\u001b[0;34m)\u001b[0m\u001b[0;34m,\u001b[0m \u001b[0mself\u001b[0m\u001b[0;34m.\u001b[0m\u001b[0mconnect_timeout\u001b[0m\u001b[0;34m,\u001b[0m \u001b[0;34m**\u001b[0m\u001b[0mkwargs\u001b[0m\u001b[0;34m\u001b[0m\u001b[0;34m\u001b[0m\u001b[0m\n",
            "\u001b[0;32m/usr/lib/python3.10/socket.py\u001b[0m in \u001b[0;36mcreate_connection\u001b[0;34m(address, timeout, source_address)\u001b[0m\n\u001b[1;32m    844\u001b[0m         \u001b[0;32mtry\u001b[0m\u001b[0;34m:\u001b[0m\u001b[0;34m\u001b[0m\u001b[0;34m\u001b[0m\u001b[0m\n\u001b[0;32m--> 845\u001b[0;31m             \u001b[0;32mraise\u001b[0m \u001b[0merr\u001b[0m\u001b[0;34m\u001b[0m\u001b[0;34m\u001b[0m\u001b[0m\n\u001b[0m\u001b[1;32m    846\u001b[0m         \u001b[0;32mfinally\u001b[0m\u001b[0;34m:\u001b[0m\u001b[0;34m\u001b[0m\u001b[0;34m\u001b[0m\u001b[0m\n",
            "\u001b[0;32m/usr/lib/python3.10/socket.py\u001b[0m in \u001b[0;36mcreate_connection\u001b[0;34m(address, timeout, source_address)\u001b[0m\n\u001b[1;32m    832\u001b[0m                 \u001b[0msock\u001b[0m\u001b[0;34m.\u001b[0m\u001b[0mbind\u001b[0m\u001b[0;34m(\u001b[0m\u001b[0msource_address\u001b[0m\u001b[0;34m)\u001b[0m\u001b[0;34m\u001b[0m\u001b[0;34m\u001b[0m\u001b[0m\n\u001b[0;32m--> 833\u001b[0;31m             \u001b[0msock\u001b[0m\u001b[0;34m.\u001b[0m\u001b[0mconnect\u001b[0m\u001b[0;34m(\u001b[0m\u001b[0msa\u001b[0m\u001b[0;34m)\u001b[0m\u001b[0;34m\u001b[0m\u001b[0;34m\u001b[0m\u001b[0m\n\u001b[0m\u001b[1;32m    834\u001b[0m             \u001b[0;31m# Break explicitly a reference cycle\u001b[0m\u001b[0;34m\u001b[0m\u001b[0;34m\u001b[0m\u001b[0m\n",
            "\u001b[0;31mOSError\u001b[0m: [Errno 99] Cannot assign requested address",
            "\nDuring handling of the above exception, another exception occurred:\n",
            "\u001b[0;31mOperationalError\u001b[0m                          Traceback (most recent call last)",
            "\u001b[0;32m<ipython-input-7-93a25c042a88>\u001b[0m in \u001b[0;36m<cell line: 1>\u001b[0;34m()\u001b[0m\n\u001b[0;32m----> 1\u001b[0;31m \u001b[0mconn\u001b[0m \u001b[0;34m=\u001b[0m \u001b[0mpymysql\u001b[0m\u001b[0;34m.\u001b[0m\u001b[0mconnect\u001b[0m\u001b[0;34m(\u001b[0m\u001b[0mhost\u001b[0m\u001b[0;34m=\u001b[0m\u001b[0mhost_name\u001b[0m\u001b[0;34m,\u001b[0m \u001b[0muser\u001b[0m\u001b[0;34m=\u001b[0m\u001b[0muser_id\u001b[0m\u001b[0;34m,\u001b[0m \u001b[0mpassword\u001b[0m\u001b[0;34m=\u001b[0m\u001b[0mpwd\u001b[0m\u001b[0;34m,\u001b[0m \u001b[0mdatabase\u001b[0m\u001b[0;34m=\u001b[0m\u001b[0mdb_name\u001b[0m\u001b[0;34m)\u001b[0m\u001b[0;34m\u001b[0m\u001b[0;34m\u001b[0m\u001b[0m\n\u001b[0m\u001b[1;32m      2\u001b[0m \u001b[0mcursor\u001b[0m \u001b[0;34m=\u001b[0m \u001b[0mconn\u001b[0m\u001b[0;34m.\u001b[0m\u001b[0mcursor\u001b[0m\u001b[0;34m(\u001b[0m\u001b[0;34m)\u001b[0m\u001b[0;34m\u001b[0m\u001b[0;34m\u001b[0m\u001b[0m\n\u001b[1;32m      3\u001b[0m \u001b[0;34m\u001b[0m\u001b[0m\n\u001b[1;32m      4\u001b[0m \u001b[0;32mtry\u001b[0m\u001b[0;34m:\u001b[0m\u001b[0;34m\u001b[0m\u001b[0;34m\u001b[0m\u001b[0m\n\u001b[1;32m      5\u001b[0m     \u001b[0mcursor\u001b[0m\u001b[0;34m.\u001b[0m\u001b[0mexecute\u001b[0m\u001b[0;34m(\u001b[0m\u001b[0;34m'SELECT * FROM products;'\u001b[0m\u001b[0;34m)\u001b[0m\u001b[0;34m\u001b[0m\u001b[0;34m\u001b[0m\u001b[0m\n",
            "\u001b[0;32m/usr/local/lib/python3.10/dist-packages/pymysql/connections.py\u001b[0m in \u001b[0;36m__init__\u001b[0;34m(self, user, password, host, database, unix_socket, port, charset, collation, sql_mode, read_default_file, conv, use_unicode, client_flag, cursorclass, init_command, connect_timeout, read_default_group, autocommit, local_infile, max_allowed_packet, defer_connect, auth_plugin_map, read_timeout, write_timeout, bind_address, binary_prefix, program_name, server_public_key, ssl, ssl_ca, ssl_cert, ssl_disabled, ssl_key, ssl_key_password, ssl_verify_cert, ssl_verify_identity, compress, named_pipe, passwd, db)\u001b[0m\n\u001b[1;32m    359\u001b[0m             \u001b[0mself\u001b[0m\u001b[0;34m.\u001b[0m\u001b[0m_sock\u001b[0m \u001b[0;34m=\u001b[0m \u001b[0;32mNone\u001b[0m\u001b[0;34m\u001b[0m\u001b[0;34m\u001b[0m\u001b[0m\n\u001b[1;32m    360\u001b[0m         \u001b[0;32melse\u001b[0m\u001b[0;34m:\u001b[0m\u001b[0;34m\u001b[0m\u001b[0;34m\u001b[0m\u001b[0m\n\u001b[0;32m--> 361\u001b[0;31m             \u001b[0mself\u001b[0m\u001b[0;34m.\u001b[0m\u001b[0mconnect\u001b[0m\u001b[0;34m(\u001b[0m\u001b[0;34m)\u001b[0m\u001b[0;34m\u001b[0m\u001b[0;34m\u001b[0m\u001b[0m\n\u001b[0m\u001b[1;32m    362\u001b[0m \u001b[0;34m\u001b[0m\u001b[0m\n\u001b[1;32m    363\u001b[0m     \u001b[0;32mdef\u001b[0m \u001b[0m__enter__\u001b[0m\u001b[0;34m(\u001b[0m\u001b[0mself\u001b[0m\u001b[0;34m)\u001b[0m\u001b[0;34m:\u001b[0m\u001b[0;34m\u001b[0m\u001b[0;34m\u001b[0m\u001b[0m\n",
            "\u001b[0;32m/usr/local/lib/python3.10/dist-packages/pymysql/connections.py\u001b[0m in \u001b[0;36mconnect\u001b[0;34m(self, sock)\u001b[0m\n\u001b[1;32m    714\u001b[0m                 \u001b[0;32mif\u001b[0m \u001b[0mDEBUG\u001b[0m\u001b[0;34m:\u001b[0m\u001b[0;34m\u001b[0m\u001b[0;34m\u001b[0m\u001b[0m\n\u001b[1;32m    715\u001b[0m                     \u001b[0mprint\u001b[0m\u001b[0;34m(\u001b[0m\u001b[0mexc\u001b[0m\u001b[0;34m.\u001b[0m\u001b[0mtraceback\u001b[0m\u001b[0;34m)\u001b[0m\u001b[0;34m\u001b[0m\u001b[0;34m\u001b[0m\u001b[0m\n\u001b[0;32m--> 716\u001b[0;31m                 \u001b[0;32mraise\u001b[0m \u001b[0mexc\u001b[0m\u001b[0;34m\u001b[0m\u001b[0;34m\u001b[0m\u001b[0m\n\u001b[0m\u001b[1;32m    717\u001b[0m \u001b[0;34m\u001b[0m\u001b[0m\n\u001b[1;32m    718\u001b[0m             \u001b[0;31m# If e is neither DatabaseError or IOError, It's a bug.\u001b[0m\u001b[0;34m\u001b[0m\u001b[0;34m\u001b[0m\u001b[0m\n",
            "\u001b[0;31mOperationalError\u001b[0m: (2003, \"Can't connect to MySQL server on 'localhost' ([Errno 99] Cannot assign requested address)\")"
          ]
        }
      ],
      "source": [
        "conn = pymysql.connect(host=host_name, user=user_id, password=pwd, database=db_name)\n",
        "cursor = conn.cursor()\n",
        "\n",
        "try:\n",
        "    cursor.execute('SELECT * FROM products;')\n",
        "\n",
        "    for row in cursor.fetchmany(size=5):\n",
        "        print(row)\n",
        "\n",
        "    cursor.close()\n",
        "\n",
        "except:\n",
        "    print (\"Error: unable to fetch data\")\n",
        "\n",
        "conn.close()"
      ]
    },
    {
      "cell_type": "code",
      "execution_count": 8,
      "id": "2574c8ae",
      "metadata": {
        "id": "2574c8ae",
        "outputId": "11fdfe1b-1a79-476c-e4df-2be93ff98173",
        "colab": {
          "base_uri": "https://localhost:8080/",
          "height": 408
        }
      },
      "outputs": [
        {
          "output_type": "error",
          "ename": "OperationalError",
          "evalue": "(2003, \"Can't connect to MySQL server on 'localhost' ([Errno 99] Cannot assign requested address)\")",
          "traceback": [
            "\u001b[0;31m---------------------------------------------------------------------------\u001b[0m",
            "\u001b[0;31mOSError\u001b[0m                                   Traceback (most recent call last)",
            "\u001b[0;32m/usr/local/lib/python3.10/dist-packages/pymysql/connections.py\u001b[0m in \u001b[0;36mconnect\u001b[0;34m(self, sock)\u001b[0m\n\u001b[1;32m    648\u001b[0m                         \u001b[0;32mtry\u001b[0m\u001b[0;34m:\u001b[0m\u001b[0;34m\u001b[0m\u001b[0;34m\u001b[0m\u001b[0m\n\u001b[0;32m--> 649\u001b[0;31m                             sock = socket.create_connection(\n\u001b[0m\u001b[1;32m    650\u001b[0m                                 \u001b[0;34m(\u001b[0m\u001b[0mself\u001b[0m\u001b[0;34m.\u001b[0m\u001b[0mhost\u001b[0m\u001b[0;34m,\u001b[0m \u001b[0mself\u001b[0m\u001b[0;34m.\u001b[0m\u001b[0mport\u001b[0m\u001b[0;34m)\u001b[0m\u001b[0;34m,\u001b[0m \u001b[0mself\u001b[0m\u001b[0;34m.\u001b[0m\u001b[0mconnect_timeout\u001b[0m\u001b[0;34m,\u001b[0m \u001b[0;34m**\u001b[0m\u001b[0mkwargs\u001b[0m\u001b[0;34m\u001b[0m\u001b[0;34m\u001b[0m\u001b[0m\n",
            "\u001b[0;32m/usr/lib/python3.10/socket.py\u001b[0m in \u001b[0;36mcreate_connection\u001b[0;34m(address, timeout, source_address)\u001b[0m\n\u001b[1;32m    844\u001b[0m         \u001b[0;32mtry\u001b[0m\u001b[0;34m:\u001b[0m\u001b[0;34m\u001b[0m\u001b[0;34m\u001b[0m\u001b[0m\n\u001b[0;32m--> 845\u001b[0;31m             \u001b[0;32mraise\u001b[0m \u001b[0merr\u001b[0m\u001b[0;34m\u001b[0m\u001b[0;34m\u001b[0m\u001b[0m\n\u001b[0m\u001b[1;32m    846\u001b[0m         \u001b[0;32mfinally\u001b[0m\u001b[0;34m:\u001b[0m\u001b[0;34m\u001b[0m\u001b[0;34m\u001b[0m\u001b[0m\n",
            "\u001b[0;32m/usr/lib/python3.10/socket.py\u001b[0m in \u001b[0;36mcreate_connection\u001b[0;34m(address, timeout, source_address)\u001b[0m\n\u001b[1;32m    832\u001b[0m                 \u001b[0msock\u001b[0m\u001b[0;34m.\u001b[0m\u001b[0mbind\u001b[0m\u001b[0;34m(\u001b[0m\u001b[0msource_address\u001b[0m\u001b[0;34m)\u001b[0m\u001b[0;34m\u001b[0m\u001b[0;34m\u001b[0m\u001b[0m\n\u001b[0;32m--> 833\u001b[0;31m             \u001b[0msock\u001b[0m\u001b[0;34m.\u001b[0m\u001b[0mconnect\u001b[0m\u001b[0;34m(\u001b[0m\u001b[0msa\u001b[0m\u001b[0;34m)\u001b[0m\u001b[0;34m\u001b[0m\u001b[0;34m\u001b[0m\u001b[0m\n\u001b[0m\u001b[1;32m    834\u001b[0m             \u001b[0;31m# Break explicitly a reference cycle\u001b[0m\u001b[0;34m\u001b[0m\u001b[0;34m\u001b[0m\u001b[0m\n",
            "\u001b[0;31mOSError\u001b[0m: [Errno 99] Cannot assign requested address",
            "\nDuring handling of the above exception, another exception occurred:\n",
            "\u001b[0;31mOperationalError\u001b[0m                          Traceback (most recent call last)",
            "\u001b[0;32m<ipython-input-8-80180d7783ca>\u001b[0m in \u001b[0;36m<cell line: 1>\u001b[0;34m()\u001b[0m\n\u001b[0;32m----> 1\u001b[0;31m \u001b[0mconn\u001b[0m \u001b[0;34m=\u001b[0m \u001b[0mpymysql\u001b[0m\u001b[0;34m.\u001b[0m\u001b[0mconnect\u001b[0m\u001b[0;34m(\u001b[0m\u001b[0mhost\u001b[0m\u001b[0;34m=\u001b[0m\u001b[0mhost_name\u001b[0m\u001b[0;34m,\u001b[0m \u001b[0muser\u001b[0m\u001b[0;34m=\u001b[0m\u001b[0muser_id\u001b[0m\u001b[0;34m,\u001b[0m \u001b[0mpassword\u001b[0m\u001b[0;34m=\u001b[0m\u001b[0mpwd\u001b[0m\u001b[0;34m,\u001b[0m \u001b[0mdatabase\u001b[0m\u001b[0;34m=\u001b[0m\u001b[0mdb_name\u001b[0m\u001b[0;34m)\u001b[0m\u001b[0;34m\u001b[0m\u001b[0;34m\u001b[0m\u001b[0m\n\u001b[0m\u001b[1;32m      2\u001b[0m \u001b[0mcursor\u001b[0m \u001b[0;34m=\u001b[0m \u001b[0mconn\u001b[0m\u001b[0;34m.\u001b[0m\u001b[0mcursor\u001b[0m\u001b[0;34m(\u001b[0m\u001b[0mpymysql\u001b[0m\u001b[0;34m.\u001b[0m\u001b[0mcursors\u001b[0m\u001b[0;34m.\u001b[0m\u001b[0mDictCursor\u001b[0m\u001b[0;34m)\u001b[0m\u001b[0;34m\u001b[0m\u001b[0;34m\u001b[0m\u001b[0m\n\u001b[1;32m      3\u001b[0m \u001b[0;34m\u001b[0m\u001b[0m\n\u001b[1;32m      4\u001b[0m \u001b[0;32mtry\u001b[0m\u001b[0;34m:\u001b[0m\u001b[0;34m\u001b[0m\u001b[0;34m\u001b[0m\u001b[0m\n\u001b[1;32m      5\u001b[0m     \u001b[0mcursor\u001b[0m\u001b[0;34m.\u001b[0m\u001b[0mexecute\u001b[0m\u001b[0;34m(\u001b[0m\u001b[0;34m'SELECT * FROM products ORDER BY list_price DESC LIMIT 5;'\u001b[0m\u001b[0;34m)\u001b[0m\u001b[0;34m\u001b[0m\u001b[0;34m\u001b[0m\u001b[0m\n",
            "\u001b[0;32m/usr/local/lib/python3.10/dist-packages/pymysql/connections.py\u001b[0m in \u001b[0;36m__init__\u001b[0;34m(self, user, password, host, database, unix_socket, port, charset, collation, sql_mode, read_default_file, conv, use_unicode, client_flag, cursorclass, init_command, connect_timeout, read_default_group, autocommit, local_infile, max_allowed_packet, defer_connect, auth_plugin_map, read_timeout, write_timeout, bind_address, binary_prefix, program_name, server_public_key, ssl, ssl_ca, ssl_cert, ssl_disabled, ssl_key, ssl_key_password, ssl_verify_cert, ssl_verify_identity, compress, named_pipe, passwd, db)\u001b[0m\n\u001b[1;32m    359\u001b[0m             \u001b[0mself\u001b[0m\u001b[0;34m.\u001b[0m\u001b[0m_sock\u001b[0m \u001b[0;34m=\u001b[0m \u001b[0;32mNone\u001b[0m\u001b[0;34m\u001b[0m\u001b[0;34m\u001b[0m\u001b[0m\n\u001b[1;32m    360\u001b[0m         \u001b[0;32melse\u001b[0m\u001b[0;34m:\u001b[0m\u001b[0;34m\u001b[0m\u001b[0;34m\u001b[0m\u001b[0m\n\u001b[0;32m--> 361\u001b[0;31m             \u001b[0mself\u001b[0m\u001b[0;34m.\u001b[0m\u001b[0mconnect\u001b[0m\u001b[0;34m(\u001b[0m\u001b[0;34m)\u001b[0m\u001b[0;34m\u001b[0m\u001b[0;34m\u001b[0m\u001b[0m\n\u001b[0m\u001b[1;32m    362\u001b[0m \u001b[0;34m\u001b[0m\u001b[0m\n\u001b[1;32m    363\u001b[0m     \u001b[0;32mdef\u001b[0m \u001b[0m__enter__\u001b[0m\u001b[0;34m(\u001b[0m\u001b[0mself\u001b[0m\u001b[0;34m)\u001b[0m\u001b[0;34m:\u001b[0m\u001b[0;34m\u001b[0m\u001b[0;34m\u001b[0m\u001b[0m\n",
            "\u001b[0;32m/usr/local/lib/python3.10/dist-packages/pymysql/connections.py\u001b[0m in \u001b[0;36mconnect\u001b[0;34m(self, sock)\u001b[0m\n\u001b[1;32m    714\u001b[0m                 \u001b[0;32mif\u001b[0m \u001b[0mDEBUG\u001b[0m\u001b[0;34m:\u001b[0m\u001b[0;34m\u001b[0m\u001b[0;34m\u001b[0m\u001b[0m\n\u001b[1;32m    715\u001b[0m                     \u001b[0mprint\u001b[0m\u001b[0;34m(\u001b[0m\u001b[0mexc\u001b[0m\u001b[0;34m.\u001b[0m\u001b[0mtraceback\u001b[0m\u001b[0;34m)\u001b[0m\u001b[0;34m\u001b[0m\u001b[0;34m\u001b[0m\u001b[0m\n\u001b[0;32m--> 716\u001b[0;31m                 \u001b[0;32mraise\u001b[0m \u001b[0mexc\u001b[0m\u001b[0;34m\u001b[0m\u001b[0;34m\u001b[0m\u001b[0m\n\u001b[0m\u001b[1;32m    717\u001b[0m \u001b[0;34m\u001b[0m\u001b[0m\n\u001b[1;32m    718\u001b[0m             \u001b[0;31m# If e is neither DatabaseError or IOError, It's a bug.\u001b[0m\u001b[0;34m\u001b[0m\u001b[0;34m\u001b[0m\u001b[0m\n",
            "\u001b[0;31mOperationalError\u001b[0m: (2003, \"Can't connect to MySQL server on 'localhost' ([Errno 99] Cannot assign requested address)\")"
          ]
        }
      ],
      "source": [
        "conn = pymysql.connect(host=host_name, user=user_id, password=pwd, database=db_name)\n",
        "cursor = conn.cursor(pymysql.cursors.DictCursor)\n",
        "\n",
        "try:\n",
        "    cursor.execute('SELECT * FROM products ORDER BY list_price DESC LIMIT 5;')\n",
        "\n",
        "    for row in cursor.fetchall():\n",
        "        print(row)\n",
        "\n",
        "    cursor.close()\n",
        "\n",
        "except:\n",
        "    print (\"Error: unable to fetch data\")\n",
        "\n",
        "conn.close()"
      ]
    },
    {
      "cell_type": "markdown",
      "id": "4de09d0c",
      "metadata": {
        "id": "4de09d0c"
      },
      "source": [
        "#### 2.2. Using the Pandas read_sql() Method to Return a DataFrame"
      ]
    },
    {
      "cell_type": "code",
      "execution_count": null,
      "id": "94065963",
      "metadata": {
        "id": "94065963"
      },
      "outputs": [],
      "source": [
        "conn = pymysql.connect(host=host_name, user=user_id, password=pwd, database=db_name)\n",
        "\n",
        "df = pd.read_sql(\"SELECT * FROM products ORDER BY list_price DESC;\", conn)\n",
        "\n",
        "conn.close()\n",
        "df.head()"
      ]
    },
    {
      "cell_type": "markdown",
      "id": "54377f52",
      "metadata": {
        "id": "54377f52"
      },
      "source": [
        "### 3.0. Using the MySQL Native Connection Library\n",
        "#### 3.1. Using a Cursor to Iterate the Rows Returned"
      ]
    },
    {
      "cell_type": "code",
      "execution_count": null,
      "id": "fad4f7da",
      "metadata": {
        "id": "fad4f7da"
      },
      "outputs": [],
      "source": [
        "lbound = 15.00\n",
        "ubound = 20.00\n",
        "\n",
        "sql_query = \"\"\"\n",
        "    SELECT id AS product_id\n",
        "        , product_name\n",
        "        , list_price\n",
        "    FROM northwind.products\n",
        "    WHERE list_price BETWEEN %s AND %s\n",
        "    ORDER BY list_price DESC;\n",
        "\"\"\""
      ]
    },
    {
      "cell_type": "code",
      "execution_count": null,
      "id": "72b02b43",
      "metadata": {
        "id": "72b02b43"
      },
      "outputs": [],
      "source": [
        "conn = mysql.connector.connect(user=user_id, password=pwd,\n",
        "                               host=host_name, database=db_name,\n",
        "                               auth_plugin='mysql_native_password')"
      ]
    },
    {
      "cell_type": "code",
      "execution_count": null,
      "id": "06bece02",
      "metadata": {
        "id": "06bece02"
      },
      "outputs": [],
      "source": [
        "cursor = conn.cursor()\n",
        "\n",
        "try:\n",
        "    cursor.execute(sql_query, (lbound, ubound))\n",
        "\n",
        "    for (product_id, product_name, list_price) in cursor:\n",
        "        print(\"{}, {} was sold for {}\".format(product_id, product_name, list_price))\n",
        "\n",
        "    cursor.close()\n",
        "\n",
        "except:\n",
        "    print (\"Error: unable to fetch data\")"
      ]
    },
    {
      "cell_type": "code",
      "execution_count": null,
      "id": "a0fba4a6",
      "metadata": {
        "id": "a0fba4a6"
      },
      "outputs": [],
      "source": [
        "cursor = conn.cursor()\n",
        "\n",
        "try:\n",
        "    cursor.execute(sql_query, (lbound, ubound))\n",
        "\n",
        "    row = cursor.fetchone()\n",
        "    while row:\n",
        "        print(row)\n",
        "        row = cursor.fetchone()\n",
        "\n",
        "    cursor.close()\n",
        "\n",
        "except:\n",
        "    print (\"Error: unable to fetch data\")"
      ]
    },
    {
      "cell_type": "code",
      "execution_count": null,
      "id": "d2764e86",
      "metadata": {
        "id": "d2764e86"
      },
      "outputs": [],
      "source": [
        "conn.close()"
      ]
    },
    {
      "cell_type": "markdown",
      "id": "7f8cf097",
      "metadata": {
        "id": "7f8cf097"
      },
      "source": [
        "#### 3.2. Using Pandas read_sql() Method to Return a DataFrame"
      ]
    },
    {
      "cell_type": "code",
      "execution_count": null,
      "id": "12c6382b",
      "metadata": {
        "id": "12c6382b"
      },
      "outputs": [],
      "source": [
        "lbound = 15.00\n",
        "ubound = 20.00\n",
        "\n",
        "sql_query = \"\"\"\n",
        "    SELECT id AS product_id\n",
        "        , product_name\n",
        "        , list_price\n",
        "    FROM northwind.products\n",
        "    WHERE list_price BETWEEN {0} AND {1}\n",
        "    ORDER BY list_price DESC;\n",
        "\"\"\".format(lbound, ubound)\n",
        "\n",
        "print(sql_query)"
      ]
    },
    {
      "cell_type": "code",
      "execution_count": null,
      "id": "f506d10e",
      "metadata": {
        "id": "f506d10e"
      },
      "outputs": [],
      "source": [
        "configs = {\n",
        "    'user': user_id,\n",
        "    'password': pwd,\n",
        "    'host': host_name,\n",
        "    'database': db_name,\n",
        "    'auth_plugin': 'mysql_native_password',\n",
        "    'raise_on_warnings': True\n",
        "}\n",
        "\n",
        "conn = mysql.connector.connect(**configs)\n",
        "\n",
        "df = pd.read_sql(sql_query, conn)\n",
        "\n",
        "conn.close()\n",
        "df.tail() #can put a number in to limit amount of rows you want to see"
      ]
    },
    {
      "cell_type": "markdown",
      "id": "598cfad9",
      "metadata": {
        "id": "598cfad9"
      },
      "source": [
        "### 4.0. Using the SQLAlchemy Connection Library"
      ]
    },
    {
      "cell_type": "code",
      "execution_count": null,
      "id": "78569883",
      "metadata": {
        "id": "78569883"
      },
      "outputs": [],
      "source": [
        "conn_str = f\"mysql+pymysql://{user_id}:{pwd}@{host_name}/{db_name}\"\n",
        "\n",
        "sqlEngine = create_engine(conn_str, pool_recycle=3600)\n",
        "conn = sqlEngine.connect()\n",
        "\n",
        "df = pd.read_sql(sql_query, conn);\n",
        "\n",
        "conn.close()\n",
        "df.head()"
      ]
    },
    {
      "cell_type": "markdown",
      "id": "dbf956e5",
      "metadata": {
        "id": "dbf956e5"
      },
      "source": [
        "### 5.0 Define Helper Functions to Encapsulate and Abstract the Implementation Details"
      ]
    },
    {
      "cell_type": "code",
      "execution_count": null,
      "id": "f5ae0f44",
      "metadata": {
        "id": "f5ae0f44"
      },
      "outputs": [],
      "source": [
        "sql_query = \"\"\"\n",
        "    SELECT id AS product_id\n",
        "        , product_name\n",
        "        , list_price\n",
        "    FROM northwind.products\n",
        "    ORDER BY list_price DESC;\n",
        "\"\"\""
      ]
    },
    {
      "cell_type": "markdown",
      "id": "fb6fe809",
      "metadata": {
        "id": "fb6fe809"
      },
      "source": [
        "#### 5.1. Using Individual Connection Parameters"
      ]
    },
    {
      "cell_type": "code",
      "execution_count": null,
      "id": "bd8681b1",
      "metadata": {
        "id": "bd8681b1"
      },
      "outputs": [],
      "source": [
        "def get_pymysql_dataframe(host, user, password, database_name, sql_query_string):\n",
        "    connection = pymysql.connect(host=host, user=user, password=password, database=database_name)\n",
        "    dframe = pd.read_sql(sql_query_string, connection)\n",
        "    connection.close()\n",
        "\n",
        "    return dframe"
      ]
    },
    {
      "cell_type": "code",
      "execution_count": null,
      "id": "48ecb819",
      "metadata": {
        "id": "48ecb819"
      },
      "outputs": [],
      "source": [
        "df = get_pymysql_dataframe(host_name, user_id, pwd, db_name, sql_query)\n",
        "df.head()"
      ]
    },
    {
      "cell_type": "code",
      "execution_count": null,
      "id": "5424c1e6",
      "metadata": {
        "id": "5424c1e6"
      },
      "outputs": [],
      "source": [
        "print(\"Shape: {}\\n\".format(df.shape)) #gives rows, columns"
      ]
    },
    {
      "cell_type": "markdown",
      "id": "42e007c4",
      "metadata": {
        "id": "42e007c4"
      },
      "source": [
        "#### 5.1.1. Using SqlAlchemy"
      ]
    },
    {
      "cell_type": "code",
      "execution_count": null,
      "id": "f8752ce2",
      "metadata": {
        "id": "f8752ce2"
      },
      "outputs": [],
      "source": [
        "def get_sqlalchemy_dataframe(user_id, pwd, host_name, db_name, sql_query):\n",
        "    conn_str = f\"mysql+pymysql://{user_id}:{pwd}@{host_name}/{db_name}\"\n",
        "    sqlEngine = create_engine(conn_str, pool_recycle=3600)\n",
        "    connection = sqlEngine.connect()\n",
        "    dframe = pd.read_sql(sql_query, connection);\n",
        "    connection.close()\n",
        "\n",
        "    return dframe"
      ]
    },
    {
      "cell_type": "code",
      "execution_count": null,
      "id": "cd64dc50",
      "metadata": {
        "id": "cd64dc50"
      },
      "outputs": [],
      "source": [
        "df = get_sqlalchemy_dataframe(user_id, pwd, host_name, db_name, sql_query)\n",
        "df.head(3)"
      ]
    },
    {
      "cell_type": "code",
      "execution_count": null,
      "id": "9702852b",
      "metadata": {
        "id": "9702852b"
      },
      "outputs": [],
      "source": [
        "print(f\"Shape: {df.shape[0]} Observations x {df.shape[1]} Features\")"
      ]
    },
    {
      "cell_type": "markdown",
      "id": "992ff1b2",
      "metadata": {
        "id": "992ff1b2"
      },
      "source": [
        "#### 5.2. Using a Configurations Dictionary"
      ]
    },
    {
      "cell_type": "code",
      "execution_count": null,
      "id": "171442bc",
      "metadata": {
        "id": "171442bc"
      },
      "outputs": [],
      "source": [
        "def get_mysql_dataframe(sql_query_string, args):\n",
        "    connection = mysql.connector.connect(**args)\n",
        "    dframe = pd.read_sql(sql_query_string, connection)\n",
        "    connection.close()\n",
        "\n",
        "    return dframe"
      ]
    },
    {
      "cell_type": "code",
      "execution_count": null,
      "id": "fb034467",
      "metadata": {
        "id": "fb034467"
      },
      "outputs": [],
      "source": [
        "dframe = get_mysql_dataframe(sql_query, configs)\n",
        "dframe.tail(3)"
      ]
    },
    {
      "cell_type": "code",
      "execution_count": null,
      "id": "e4040753",
      "metadata": {
        "id": "e4040753"
      },
      "outputs": [],
      "source": [
        "print(f\"Shape: {dframe.shape[0]} Observations x {dframe.shape[1]} Features\")"
      ]
    },
    {
      "cell_type": "markdown",
      "id": "9f5f8be6",
      "metadata": {
        "id": "9f5f8be6"
      },
      "source": [
        "### 6.0. Writing a Pandas DataFrame to a SQL Database"
      ]
    },
    {
      "cell_type": "code",
      "execution_count": null,
      "id": "324762b8",
      "metadata": {
        "id": "324762b8"
      },
      "outputs": [],
      "source": [
        "def insert_sqlalchemy_dataframe(user_id, pwd, host_name, db_name, df, table_name):\n",
        "    conn_str = f\"mysql+pymysql://{user_id}:{pwd}@{host_name}/{db_name}\"\n",
        "    sqlEngine = create_engine(conn_str, pool_recycle=3600)\n",
        "    connection = sqlEngine.connect()\n",
        "    df.to_sql(table_name, con=connection, if_exists='replace') #, index_label='product_id');  'append'\n",
        "    connection.close()"
      ]
    },
    {
      "cell_type": "code",
      "execution_count": null,
      "id": "6d483cd3",
      "metadata": {
        "id": "6d483cd3"
      },
      "outputs": [],
      "source": [
        "insert_sqlalchemy_dataframe(user_id, pwd, host_name, db_name, dframe, 'dim_products')"
      ]
    },
    {
      "cell_type": "code",
      "execution_count": null,
      "id": "a4451230",
      "metadata": {
        "id": "a4451230"
      },
      "outputs": [],
      "source": [
        "df = get_sqlalchemy_dataframe(user_id, pwd, host_name, db_name, 'SELECT * FROM dim_products')\n",
        "df.head()"
      ]
    },
    {
      "cell_type": "markdown",
      "id": "2692f47b",
      "metadata": {
        "id": "2692f47b"
      },
      "source": [
        "### 7.0. Explore Pandas DataFrames' Capabilities\n",
        "#### 7.1. Display the Data Type of Each Feature"
      ]
    },
    {
      "cell_type": "code",
      "execution_count": 9,
      "id": "6333c0ac",
      "metadata": {
        "id": "6333c0ac",
        "outputId": "d9f5bc27-e716-4a04-f3db-fe51c11db958",
        "colab": {
          "base_uri": "https://localhost:8080/",
          "height": 176
        }
      },
      "outputs": [
        {
          "output_type": "error",
          "ename": "NameError",
          "evalue": "name 'get_mysql_dataframe' is not defined",
          "traceback": [
            "\u001b[0;31m---------------------------------------------------------------------------\u001b[0m",
            "\u001b[0;31mNameError\u001b[0m                                 Traceback (most recent call last)",
            "\u001b[0;32m<ipython-input-9-1d36e6ac517f>\u001b[0m in \u001b[0;36m<cell line: 3>\u001b[0;34m()\u001b[0m\n\u001b[1;32m      1\u001b[0m \u001b[0msql_query\u001b[0m \u001b[0;34m=\u001b[0m \u001b[0;34m\"SELECT * FROM northwind.products;\"\u001b[0m\u001b[0;34m\u001b[0m\u001b[0;34m\u001b[0m\u001b[0m\n\u001b[1;32m      2\u001b[0m \u001b[0;34m\u001b[0m\u001b[0m\n\u001b[0;32m----> 3\u001b[0;31m \u001b[0mdf\u001b[0m \u001b[0;34m=\u001b[0m \u001b[0mget_mysql_dataframe\u001b[0m\u001b[0;34m(\u001b[0m\u001b[0msql_query\u001b[0m\u001b[0;34m,\u001b[0m \u001b[0mconfigs\u001b[0m\u001b[0;34m)\u001b[0m\u001b[0;34m\u001b[0m\u001b[0;34m\u001b[0m\u001b[0m\n\u001b[0m",
            "\u001b[0;31mNameError\u001b[0m: name 'get_mysql_dataframe' is not defined"
          ]
        }
      ],
      "source": [
        "sql_query = \"SELECT * FROM northwind.products;\"\n",
        "\n",
        "df = get_mysql_dataframe(sql_query, configs)"
      ]
    },
    {
      "cell_type": "code",
      "execution_count": null,
      "id": "38c56b5a",
      "metadata": {
        "id": "38c56b5a"
      },
      "outputs": [],
      "source": [
        "df.dtypes"
      ]
    },
    {
      "cell_type": "markdown",
      "id": "b26c0cc6",
      "metadata": {
        "id": "b26c0cc6"
      },
      "source": [
        "#### 7.1. Inspect the Cardinality (number of unique values) of each Feature"
      ]
    },
    {
      "cell_type": "code",
      "execution_count": null,
      "id": "bd662302",
      "metadata": {
        "id": "bd662302"
      },
      "outputs": [],
      "source": [
        "df.nunique()"
      ]
    },
    {
      "cell_type": "code",
      "execution_count": null,
      "id": "794553d2",
      "metadata": {
        "scrolled": true,
        "id": "794553d2"
      },
      "outputs": [],
      "source": [
        "unique_values = []\n",
        "\n",
        "for column in df.columns:\n",
        "    unique_values.append(df[column].unique())\n",
        "\n",
        "data = list(zip(df.columns, unique_values))\n",
        "\n",
        "pd.DataFrame(data, columns=['Feature', 'Unique Values'])"
      ]
    },
    {
      "cell_type": "markdown",
      "id": "c25b45f8",
      "metadata": {
        "id": "c25b45f8"
      },
      "source": [
        "#### 7.2. Display any Missing (NULL) values"
      ]
    },
    {
      "cell_type": "code",
      "execution_count": null,
      "id": "9a7e0611",
      "metadata": {
        "id": "9a7e0611"
      },
      "outputs": [],
      "source": [
        "df.isnull().sum().sort_values(ascending=True)"
      ]
    },
    {
      "cell_type": "markdown",
      "id": "e25517e2",
      "metadata": {
        "id": "e25517e2"
      },
      "source": [
        "#### 7.3. Separate Numerical and Categorical Features"
      ]
    },
    {
      "cell_type": "code",
      "execution_count": null,
      "id": "4154b686",
      "metadata": {
        "id": "4154b686"
      },
      "outputs": [],
      "source": [
        "numerical_cols = [col for col in df.columns if df.dtypes[col] != 'O']\n",
        "categorical_cols = [col for col in df.columns if col not in numerical_cols]\n",
        "\n",
        "print(numerical_cols)\n",
        "print(categorical_cols)"
      ]
    },
    {
      "cell_type": "markdown",
      "id": "1633d8aa",
      "metadata": {
        "id": "1633d8aa"
      },
      "source": [
        "#### 7.4. Evaluate the Statistical Distribution of the Numerical Features"
      ]
    },
    {
      "cell_type": "code",
      "execution_count": null,
      "id": "a79b4e64",
      "metadata": {
        "id": "a79b4e64"
      },
      "outputs": [],
      "source": [
        "df[numerical_cols].describe()"
      ]
    },
    {
      "cell_type": "markdown",
      "id": "6bb8d9c7",
      "metadata": {
        "id": "6bb8d9c7"
      },
      "source": [
        "#### 7.5. Write the Contents of the DataFrame to a Comma-Separated Values (CSV) File"
      ]
    },
    {
      "cell_type": "code",
      "execution_count": 10,
      "id": "9708903a",
      "metadata": {
        "id": "9708903a",
        "outputId": "e3996da4-dc06-4b2d-e53d-497d35779d54",
        "colab": {
          "base_uri": "https://localhost:8080/"
        }
      },
      "outputs": [
        {
          "output_type": "stream",
          "name": "stdout",
          "text": [
            "/content\n",
            "/content/data\n",
            "/content/data/northwind_products.csv\n"
          ]
        }
      ],
      "source": [
        "data_dir = os.path.join(os.getcwd(), 'data')\n",
        "dest_file = os.path.join(data_dir, 'northwind_products.csv')\n",
        "\n",
        "print(os.getcwd())\n",
        "print(data_dir)\n",
        "print(dest_file)\n",
        "\n",
        "df.to_csv(dest_file)"
      ]
    }
  ],
  "metadata": {
    "kernelspec": {
      "display_name": "Python 3 (ipykernel)",
      "language": "python",
      "name": "python3"
    },
    "language_info": {
      "codemirror_mode": {
        "name": "ipython",
        "version": 3
      },
      "file_extension": ".py",
      "mimetype": "text/x-python",
      "name": "python",
      "nbconvert_exporter": "python",
      "pygments_lexer": "ipython3",
      "version": "3.11.5"
    },
    "colab": {
      "provenance": []
    }
  },
  "nbformat": 4,
  "nbformat_minor": 5
}